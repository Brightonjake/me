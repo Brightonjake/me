{
 "cells": [
  {
   "cell_type": "markdown",
   "metadata": {},
   "source": [
    "CENSUS UNPACKED\n",
    "\n",
    "The census is a very important collection of data on the key characteristics of the Australia population held every 5 years that helps inform many policy decision made by government. However while may see the figures widely published and the information is publically available, it is not very easy for the average person to look at since there is no platform that makes it easier to understand unless they like looking at endless excel spreadsheets. \n",
    "\n",
    "There is amazing amount of data and some really cool categories that are unexplored. \n",
    "\n",
    "For example, do you know what suburbs have the most registered carivans? Or what areas of Sydney outside the city have the highest rates of homelessness? \n",
    "\n",
    "These are some of the questions I hope to 'unpack' through this assignment!!!!\n"
   ]
  },
  {
   "cell_type": "markdown",
   "metadata": {},
   "source": [
    "\n",
    "THE PROCESS:\n"
   ]
  },
  {
   "cell_type": "markdown",
   "metadata": {},
   "source": [
    "\n",
    "STEP 1: Download census data!\n",
    "    "
   ]
  },
  {
   "cell_type": "markdown",
   "metadata": {},
   "source": [
    "\n",
    "STEP 2: Extract desired data!\n"
   ]
  },
  {
   "cell_type": "code",
   "execution_count": 1,
   "metadata": {},
   "outputs": [
    {
     "name": "stdout",
     "output_type": "stream",
     "text": [
      "['CSV files/118021348_Coogee - Clovelly ', 'CSV files/118021569_Randwick - North ', 'CSV files/118021564_Kensington (NSW) ', 'CSV files/118021565_Kingsford ', 'CSV files/118021570_Randwick - South ', 'CSV files/118021350_Malabar - La Perouse - Chifley ', 'CSV files/118021568_Maroubra - West ']\n"
     ]
    }
   ],
   "source": [
    "###Listing files in a folder###\n",
    "\n",
    "import os\n",
    "#required package\n",
    "\n",
    "path = 'CSV files/'\n",
    "files = []\n",
    "\n",
    "for r, d, f in os.walk(path):\n",
    "#Using os package, opens file from the local path variable\n",
    "# r=root, d=directories, f = files\n",
    "\n",
    "    for file in f:\n",
    "#Loop for all the files in the folder\n",
    "        \n",
    "        if file == '.DS_Store':\n",
    "                pass\n",
    "#Exception for the DS_Store (short for Desktop Services Store), a file on Mac\n",
    "#that stores custom attributes of its containing folder, \n",
    "#such as the position of icons or the choice of a background image. \n",
    "    \n",
    "        else:\n",
    "                files.append(os.path.join(r, file))\n",
    "#Adds file path to an empty list\n",
    "    \n",
    "print (files)"
   ]
  },
  {
   "cell_type": "code",
   "execution_count": 2,
   "metadata": {},
   "outputs": [
    {
     "name": "stdout",
     "output_type": "stream",
     "text": [
      "      Time  Value     MEASURE                       Description\n",
      "1617  2011   19.0  HOMELESS_2  Homeless rate per 10,000 persons\n",
      "1618  2016   17.8  HOMELESS_2  Homeless rate per 10,000 persons\n"
     ]
    }
   ],
   "source": [
    "###Reading specified information off a file###\n",
    "\n",
    "import pandas as pd\n",
    "#Package required for dataframes\n",
    "\n",
    "temp_table= pd.DataFrame()\n",
    "#creates empty dataframe\n",
    "\n",
    "for f in files: \n",
    "    read_file = pd.read_csv(f)\n",
    "    #Reads different file for each iteration\n",
    "\n",
    "    search_criteria = read_file['Description']== \"Homeless rate per 10,000 persons\"\n",
    "    new_info = read_file[search_criteria]\n",
    "    #Searches the file and obtains rows with certain characteristic\n",
    "    \n",
    "print (new_info)"
   ]
  },
  {
   "cell_type": "code",
   "execution_count": 3,
   "metadata": {},
   "outputs": [
    {
     "name": "stdout",
     "output_type": "stream",
     "text": [
      "   Time  Value     MEASURE                       Description\n",
      "0  2011   19.0  HOMELESS_2  Homeless rate per 10,000 persons\n",
      "1  2016   17.8  HOMELESS_2  Homeless rate per 10,000 persons\n"
     ]
    }
   ],
   "source": [
    "new_info = new_info.reset_index(drop=True)\n",
    "    #deletes index column. Makes it easier to compile\n",
    "\n",
    "print (new_info)"
   ]
  },
  {
   "cell_type": "code",
   "execution_count": 5,
   "metadata": {},
   "outputs": [
    {
     "name": "stdout",
     "output_type": "stream",
     "text": [
      "Full file path: CSV files/118021568_Maroubra - West \n",
      "area_code: 118021568\n",
      "area_name: Maroubra - West \n"
     ]
    }
   ],
   "source": [
    "###Pulling out area number and name in the file name###\n",
    "\n",
    "print (\"Full file path: \" + f)\n",
    "#Refer to first printed line\n",
    "\n",
    "make_string = str(f)\n",
    "#Converts to string so it can be split\n",
    "\n",
    "split_filepath = make_string.split(\"/\")\n",
    "#Splits string by / character\n",
    "\n",
    "name_and_code= split_filepath[1]\n",
    "#Chooses 2nd part. Remember index starts from zero!\n",
    "\n",
    "split_name_and_code= name_and_code.split(\"_\")\n",
    "#Another split of nominated 2nd part by _ character\n",
    "\n",
    "area_code = split_name_and_code[0]\n",
    "area_name = split_name_and_code[1]\n",
    "#Assigns variable for further breakdown for area name and code\n",
    "\n",
    "print (\"area_code: \" + area_code)\n",
    "print (\"area_name: \" + area_name)\n",
    "#Prints result nice and clearly"
   ]
  },
  {
   "cell_type": "code",
   "execution_count": 7,
   "metadata": {},
   "outputs": [
    {
     "name": "stdout",
     "output_type": "stream",
     "text": [
      "   Time  Value     MEASURE                       Description       Code  \\\n",
      "0  2011   19.0  HOMELESS_2  Homeless rate per 10,000 persons  118021568   \n",
      "1  2016   17.8  HOMELESS_2  Homeless rate per 10,000 persons  118021568   \n",
      "\n",
      "               Area  \n",
      "0  Maroubra - West   \n",
      "1  Maroubra - West   \n"
     ]
    }
   ],
   "source": [
    "###Adding columns with area number and name###\n",
    "\n",
    "area_column = [area_name,area_name]\n",
    "code_column = [area_code,area_code]\n",
    "new_info['Code'] = code_column\n",
    "new_info['Area'] = area_column\n",
    "    #Adds new column with area name and code\n",
    "    \n",
    "print (new_info)"
   ]
  },
  {
   "cell_type": "code",
   "execution_count": 25,
   "metadata": {},
   "outputs": [],
   "source": [
    "###Loop combining elements above all the files###\n",
    "\n",
    "#Note: only new part annontated\n",
    "\n",
    "temp_table= pd.DataFrame()\n",
    "\n",
    "for f in files: \n",
    "    read_file = pd.read_csv(f)\n",
    "\n",
    "    search_criteria = read_file['Description']== \"Homeless rate per 10,000 persons\"\n",
    "    new_info = read_file[search_criteria]\n",
    "\n",
    "    new_info = new_info.reset_index(drop=True)\n",
    "    \n",
    "    make_string = str(f)\n",
    "    split_filepath = make_string.split(\"/\")\n",
    "    name_and_code= split_filepath[1]\n",
    "    split_name_and_code= name_and_code.split(\"_\")\n",
    "    area_code = split_name_and_code[0]\n",
    "    area_name = split_name_and_code[1]\n",
    " \n",
    "    area_column = [area_name,area_name]\n",
    "    code_column = [area_code,area_code]\n",
    "    new_info['Code'] = code_column\n",
    "    new_info['Area'] = area_column\n",
    "\n",
    "    main_table = pd.concat([new_info, temp_table], axis=0)\n",
    "    temp_table = main_table\n",
    "    #Combines data from each iteration into one table\n"
   ]
  },
  {
   "cell_type": "code",
   "execution_count": 26,
   "metadata": {},
   "outputs": [
    {
     "name": "stdout",
     "output_type": "stream",
     "text": [
      "   Time  Value                       Description       Code                             Area\n",
      "0  2011   19.0  Homeless rate per 10,000 persons  118021568                 Maroubra - West \n",
      "1  2016   17.8  Homeless rate per 10,000 persons  118021568                 Maroubra - West \n",
      "0  2011   33.4  Homeless rate per 10,000 persons  118021350  Malabar - La Perouse - Chifley \n",
      "1  2016   29.7  Homeless rate per 10,000 persons  118021350  Malabar - La Perouse - Chifley \n",
      "0  2011   88.5  Homeless rate per 10,000 persons  118021570                Randwick - South \n",
      "1  2016  102.7  Homeless rate per 10,000 persons  118021570                Randwick - South \n",
      "0  2011   59.5  Homeless rate per 10,000 persons  118021565                       Kingsford \n",
      "1  2016  106.1  Homeless rate per 10,000 persons  118021565                       Kingsford \n",
      "0  2011   60.2  Homeless rate per 10,000 persons  118021564                Kensington (NSW) \n",
      "1  2016   61.1  Homeless rate per 10,000 persons  118021564                Kensington (NSW) \n",
      "0  2011   88.9  Homeless rate per 10,000 persons  118021569                Randwick - North \n",
      "1  2016   62.9  Homeless rate per 10,000 persons  118021569                Randwick - North \n",
      "0  2011   32.4  Homeless rate per 10,000 persons  118021348               Coogee - Clovelly \n",
      "1  2016   48.0  Homeless rate per 10,000 persons  118021348               Coogee - Clovelly \n"
     ]
    }
   ],
   "source": [
    "###Formatting: removing unneccessary column/words###\n",
    "\n",
    "main_table= main_table.drop (\"MEASURE\",axis=1)\n",
    "#Deletes measure column\n",
    "#Note: axis = 1 command changes the drop command from rows to columns\n",
    "\n",
    "pd.set_option('display.expand_frame_repr', False)\n",
    "#Increases dataframe display width. Default breaks it up into two tables\n",
    "\n",
    "print(main_table)"
   ]
  },
  {
   "cell_type": "code",
   "execution_count": 27,
   "metadata": {},
   "outputs": [
    {
     "name": "stdout",
     "output_type": "stream",
     "text": [
      "   Time  Value                       Description       Code                             Area\n",
      "1  2016   17.8  Homeless rate per 10,000 persons  118021568                 Maroubra - West \n",
      "1  2016   29.7  Homeless rate per 10,000 persons  118021350  Malabar - La Perouse - Chifley \n",
      "1  2016  102.7  Homeless rate per 10,000 persons  118021570                Randwick - South \n",
      "1  2016  106.1  Homeless rate per 10,000 persons  118021565                       Kingsford \n",
      "1  2016   61.1  Homeless rate per 10,000 persons  118021564                Kensington (NSW) \n",
      "1  2016   62.9  Homeless rate per 10,000 persons  118021569                Randwick - North \n",
      "1  2016   48.0  Homeless rate per 10,000 persons  118021348               Coogee - Clovelly \n"
     ]
    }
   ],
   "source": [
    "###Formatting: Table with 2016 Data only###\n",
    "\n",
    "main_table= main_table.drop(0)\n",
    "#Drops all rows with index 0 (also 2011 rows)\n",
    "\n",
    "print(main_table)"
   ]
  },
  {
   "cell_type": "markdown",
   "metadata": {},
   "source": [
    "\n",
    "STEP 3: Unpack the Geopackage\n"
   ]
  },
  {
   "cell_type": "markdown",
   "metadata": {},
   "source": [
    "\n",
    "Downloaded the 2016 New South Wales Geopackage on the census website. \n",
    "Note: This was in a different section to the other data scraped above\n",
    "https://datapacks.censusdata.abs.gov.au/geopackages/\n",
    "\n",
    "Extracted Statisical Area 2 Geojson with shape files inside from GPKG file with this program:\n",
    "http://ngageoint.github.io/geopackage-js/\n",
    "\n",
    "If you want to explore the boundaries and layering of the GeoJson file, open with this:\n",
    "http://geojson.io/#map=6/-32.954/150.054\n",
    "Note: It is a little slow\n",
    "\n",
    "This link will reformat the file to make it readable by a human in python however this is not necessary\n",
    "https://beautifier.io/\n"
   ]
  },
  {
   "cell_type": "code",
   "execution_count": 42,
   "metadata": {},
   "outputs": [
    {
     "data": {
      "text/html": [
       "<div>\n",
       "<style scoped>\n",
       "    .dataframe tbody tr th:only-of-type {\n",
       "        vertical-align: middle;\n",
       "    }\n",
       "\n",
       "    .dataframe tbody tr th {\n",
       "        vertical-align: top;\n",
       "    }\n",
       "\n",
       "    .dataframe thead th {\n",
       "        text-align: right;\n",
       "    }\n",
       "</style>\n",
       "<table border=\"1\" class=\"dataframe\">\n",
       "  <thead>\n",
       "    <tr style=\"text-align: right;\">\n",
       "      <th></th>\n",
       "      <th>primaryindex</th>\n",
       "      <th>sa2_maincode_2016</th>\n",
       "      <th>Count_home_Census_Nt_0_14_yr</th>\n",
       "      <th>Count_hom_Census_Nt_15_24_yr</th>\n",
       "      <th>Count_hom_Census_Nt_25_34_yr</th>\n",
       "      <th>Count_hom_Census_Nt_35_44_yr</th>\n",
       "      <th>Count_hom_Census_Nt_45_54_yr</th>\n",
       "      <th>Count_hom_Census_Nt_55_64_yr</th>\n",
       "      <th>Count_hom_Census_Nt_65_74_yr</th>\n",
       "      <th>Count_hom_Census_Nt_75_84_yr</th>\n",
       "      <th>...</th>\n",
       "      <th>Difnt_Usl_add_5_yr_ago_Tot_M</th>\n",
       "      <th>Difnt_Usl_add_5_yr_ago_Tot_F</th>\n",
       "      <th>Difnt_Usl_add_5_yr_ago_Tot_P</th>\n",
       "      <th>N_stated_M_G42</th>\n",
       "      <th>N_stated_F_G42</th>\n",
       "      <th>N_stated_P_G42</th>\n",
       "      <th>Tot_M_G42</th>\n",
       "      <th>Tot_F_G42</th>\n",
       "      <th>Tot_P_G42</th>\n",
       "      <th>geometry</th>\n",
       "    </tr>\n",
       "  </thead>\n",
       "  <tbody>\n",
       "    <tr>\n",
       "      <th>0</th>\n",
       "      <td>1</td>\n",
       "      <td>124031461</td>\n",
       "      <td>3488</td>\n",
       "      <td>1915</td>\n",
       "      <td>2446</td>\n",
       "      <td>2371</td>\n",
       "      <td>1897</td>\n",
       "      <td>2026</td>\n",
       "      <td>1666</td>\n",
       "      <td>659</td>\n",
       "      <td>...</td>\n",
       "      <td>2547</td>\n",
       "      <td>2712</td>\n",
       "      <td>5260</td>\n",
       "      <td>451</td>\n",
       "      <td>474</td>\n",
       "      <td>924</td>\n",
       "      <td>7750</td>\n",
       "      <td>8284</td>\n",
       "      <td>16036</td>\n",
       "      <td>POLYGON ((150.668015306 -33.75867972099996, 15...</td>\n",
       "    </tr>\n",
       "    <tr>\n",
       "      <th>1</th>\n",
       "      <td>2</td>\n",
       "      <td>110021194</td>\n",
       "      <td>996</td>\n",
       "      <td>493</td>\n",
       "      <td>382</td>\n",
       "      <td>623</td>\n",
       "      <td>773</td>\n",
       "      <td>1206</td>\n",
       "      <td>1055</td>\n",
       "      <td>484</td>\n",
       "      <td>...</td>\n",
       "      <td>871</td>\n",
       "      <td>973</td>\n",
       "      <td>1848</td>\n",
       "      <td>385</td>\n",
       "      <td>392</td>\n",
       "      <td>773</td>\n",
       "      <td>3113</td>\n",
       "      <td>3235</td>\n",
       "      <td>6343</td>\n",
       "      <td>POLYGON ((151.957926 -28.51592999699994, 151.9...</td>\n",
       "    </tr>\n",
       "    <tr>\n",
       "      <th>2</th>\n",
       "      <td>3</td>\n",
       "      <td>124041468</td>\n",
       "      <td>1273</td>\n",
       "      <td>1105</td>\n",
       "      <td>1041</td>\n",
       "      <td>1068</td>\n",
       "      <td>1053</td>\n",
       "      <td>816</td>\n",
       "      <td>546</td>\n",
       "      <td>186</td>\n",
       "      <td>...</td>\n",
       "      <td>789</td>\n",
       "      <td>762</td>\n",
       "      <td>1553</td>\n",
       "      <td>991</td>\n",
       "      <td>464</td>\n",
       "      <td>1452</td>\n",
       "      <td>3869</td>\n",
       "      <td>3166</td>\n",
       "      <td>7037</td>\n",
       "      <td>POLYGON ((150.695831007 -33.60961500899998, 15...</td>\n",
       "    </tr>\n",
       "    <tr>\n",
       "      <th>3</th>\n",
       "      <td>4</td>\n",
       "      <td>111021217</td>\n",
       "      <td>3240</td>\n",
       "      <td>1616</td>\n",
       "      <td>2016</td>\n",
       "      <td>2063</td>\n",
       "      <td>1590</td>\n",
       "      <td>1298</td>\n",
       "      <td>977</td>\n",
       "      <td>494</td>\n",
       "      <td>...</td>\n",
       "      <td>2643</td>\n",
       "      <td>2937</td>\n",
       "      <td>5576</td>\n",
       "      <td>299</td>\n",
       "      <td>316</td>\n",
       "      <td>616</td>\n",
       "      <td>6259</td>\n",
       "      <td>6706</td>\n",
       "      <td>12959</td>\n",
       "      <td>POLYGON ((151.6008459520001 -32.88926030699997...</td>\n",
       "    </tr>\n",
       "    <tr>\n",
       "      <th>4</th>\n",
       "      <td>5</td>\n",
       "      <td>103021062</td>\n",
       "      <td>1375</td>\n",
       "      <td>617</td>\n",
       "      <td>732</td>\n",
       "      <td>658</td>\n",
       "      <td>735</td>\n",
       "      <td>823</td>\n",
       "      <td>667</td>\n",
       "      <td>448</td>\n",
       "      <td>...</td>\n",
       "      <td>799</td>\n",
       "      <td>879</td>\n",
       "      <td>1678</td>\n",
       "      <td>420</td>\n",
       "      <td>372</td>\n",
       "      <td>791</td>\n",
       "      <td>3071</td>\n",
       "      <td>3049</td>\n",
       "      <td>6119</td>\n",
       "      <td>POLYGON ((146.0950879860001 -33.27617800199994...</td>\n",
       "    </tr>\n",
       "  </tbody>\n",
       "</table>\n",
       "<p>5 rows × 311 columns</p>\n",
       "</div>"
      ],
      "text/plain": [
       "   primaryindex sa2_maincode_2016  Count_home_Census_Nt_0_14_yr  Count_hom_Census_Nt_15_24_yr  Count_hom_Census_Nt_25_34_yr  Count_hom_Census_Nt_35_44_yr  Count_hom_Census_Nt_45_54_yr  Count_hom_Census_Nt_55_64_yr  Count_hom_Census_Nt_65_74_yr  Count_hom_Census_Nt_75_84_yr  ...  Difnt_Usl_add_5_yr_ago_Tot_M  Difnt_Usl_add_5_yr_ago_Tot_F  Difnt_Usl_add_5_yr_ago_Tot_P  N_stated_M_G42  N_stated_F_G42  N_stated_P_G42  Tot_M_G42  Tot_F_G42  Tot_P_G42                                           geometry\n",
       "0             1         124031461                          3488                          1915                          2446                          2371                          1897                          2026                          1666                           659  ...                          2547                          2712                          5260             451             474             924       7750       8284      16036  POLYGON ((150.668015306 -33.75867972099996, 15...\n",
       "1             2         110021194                           996                           493                           382                           623                           773                          1206                          1055                           484  ...                           871                           973                          1848             385             392             773       3113       3235       6343  POLYGON ((151.957926 -28.51592999699994, 151.9...\n",
       "2             3         124041468                          1273                          1105                          1041                          1068                          1053                           816                           546                           186  ...                           789                           762                          1553             991             464            1452       3869       3166       7037  POLYGON ((150.695831007 -33.60961500899998, 15...\n",
       "3             4         111021217                          3240                          1616                          2016                          2063                          1590                          1298                           977                           494  ...                          2643                          2937                          5576             299             316             616       6259       6706      12959  POLYGON ((151.6008459520001 -32.88926030699997...\n",
       "4             5         103021062                          1375                           617                           732                           658                           735                           823                           667                           448  ...                           799                           879                          1678             420             372             791       3071       3049       6119  POLYGON ((146.0950879860001 -33.27617800199994...\n",
       "\n",
       "[5 rows x 311 columns]"
      ]
     },
     "execution_count": 42,
     "metadata": {},
     "output_type": "execute_result"
    }
   ],
   "source": [
    "import geopandas as gpd \n",
    "import matplotlib.pyplot as plt\n",
    "\n",
    "df = gpd.read_file('../formatted_SA2.geojson')\n",
    "#Use geopandas to read the file\n",
    "#df - dataframe\n",
    "\n",
    "df.head()"
   ]
  },
  {
   "cell_type": "markdown",
   "metadata": {},
   "source": [
    "This is a massive file with a lot of extra data imbedded. I have only displayed the top with df.head\n",
    "\n",
    "The actual size = (578, 311). This can be found with df.shape\n",
    "\n",
    "Note: One could skip to this section and still have a lot of data to compare different regions with. However many of the categories are also not on here such as homelessness and since I did the work I thought I might as well incorporate it!\n"
   ]
  },
  {
   "cell_type": "code",
   "execution_count": 44,
   "metadata": {},
   "outputs": [
    {
     "data": {
      "text/html": [
       "<div>\n",
       "<style scoped>\n",
       "    .dataframe tbody tr th:only-of-type {\n",
       "        vertical-align: middle;\n",
       "    }\n",
       "\n",
       "    .dataframe tbody tr th {\n",
       "        vertical-align: top;\n",
       "    }\n",
       "\n",
       "    .dataframe thead th {\n",
       "        text-align: right;\n",
       "    }\n",
       "</style>\n",
       "<table border=\"1\" class=\"dataframe\">\n",
       "  <thead>\n",
       "    <tr style=\"text-align: right;\">\n",
       "      <th></th>\n",
       "      <th>sa2_maincode_2016</th>\n",
       "      <th>geometry</th>\n",
       "    </tr>\n",
       "  </thead>\n",
       "  <tbody>\n",
       "    <tr>\n",
       "      <th>0</th>\n",
       "      <td>124031461</td>\n",
       "      <td>POLYGON ((150.668015306 -33.75867972099996, 15...</td>\n",
       "    </tr>\n",
       "    <tr>\n",
       "      <th>1</th>\n",
       "      <td>110021194</td>\n",
       "      <td>POLYGON ((151.957926 -28.51592999699994, 151.9...</td>\n",
       "    </tr>\n",
       "    <tr>\n",
       "      <th>2</th>\n",
       "      <td>124041468</td>\n",
       "      <td>POLYGON ((150.695831007 -33.60961500899998, 15...</td>\n",
       "    </tr>\n",
       "    <tr>\n",
       "      <th>3</th>\n",
       "      <td>111021217</td>\n",
       "      <td>POLYGON ((151.6008459520001 -32.88926030699997...</td>\n",
       "    </tr>\n",
       "    <tr>\n",
       "      <th>4</th>\n",
       "      <td>103021062</td>\n",
       "      <td>POLYGON ((146.0950879860001 -33.27617800199994...</td>\n",
       "    </tr>\n",
       "  </tbody>\n",
       "</table>\n",
       "</div>"
      ],
      "text/plain": [
       "  sa2_maincode_2016                                           geometry\n",
       "0         124031461  POLYGON ((150.668015306 -33.75867972099996, 15...\n",
       "1         110021194  POLYGON ((151.957926 -28.51592999699994, 151.9...\n",
       "2         124041468  POLYGON ((150.695831007 -33.60961500899998, 15...\n",
       "3         111021217  POLYGON ((151.6008459520001 -32.88926030699997...\n",
       "4         103021062  POLYGON ((146.0950879860001 -33.27617800199994..."
      ]
     },
     "execution_count": 44,
     "metadata": {},
     "output_type": "execute_result"
    }
   ],
   "source": [
    "###Formatting: keep only the area-codes and shape files columns###\n",
    "\n",
    "df = df[['sa2_maincode_2016','geometry']]\n",
    "\n",
    "df.head()"
   ]
  },
  {
   "cell_type": "code",
   "execution_count": 45,
   "metadata": {},
   "outputs": [],
   "source": [
    "###Formatting: drop two areas without shape files###\n",
    "\n",
    "df = df.drop([576,577], axis=0)\n",
    "#576, 577 refer to row number. Happen to be last two rows\n"
   ]
  },
  {
   "cell_type": "markdown",
   "metadata": {},
   "source": [
    "\n",
    "STEP 3: Merge Census and Geopackage dataframes\n"
   ]
  },
  {
   "cell_type": "code",
   "execution_count": 46,
   "metadata": {},
   "outputs": [
    {
     "name": "stdout",
     "output_type": "stream",
     "text": [
      "['118021568' '118021350' '118021570' '118021565' '118021564' '118021569'\n",
      " '118021348']\n"
     ]
    }
   ],
   "source": [
    "###Optional: List unique values in a column###\n",
    "\n",
    "code_list = main_table.Code.unique()\n",
    "#List unique area codes from first table. Important since not all the areas were used in this run\n",
    "\n",
    "print (code_list)"
   ]
  },
  {
   "cell_type": "code",
   "execution_count": 47,
   "metadata": {},
   "outputs": [
    {
     "data": {
      "text/html": [
       "<div>\n",
       "<style scoped>\n",
       "    .dataframe tbody tr th:only-of-type {\n",
       "        vertical-align: middle;\n",
       "    }\n",
       "\n",
       "    .dataframe tbody tr th {\n",
       "        vertical-align: top;\n",
       "    }\n",
       "\n",
       "    .dataframe thead th {\n",
       "        text-align: right;\n",
       "    }\n",
       "</style>\n",
       "<table border=\"1\" class=\"dataframe\">\n",
       "  <thead>\n",
       "    <tr style=\"text-align: right;\">\n",
       "      <th></th>\n",
       "      <th>sa2_maincode_2016</th>\n",
       "      <th>geometry</th>\n",
       "    </tr>\n",
       "  </thead>\n",
       "  <tbody>\n",
       "    <tr>\n",
       "      <th>8</th>\n",
       "      <td>118021348</td>\n",
       "      <td>(POLYGON ((151.249332994 -33.91452159399995, 1...</td>\n",
       "    </tr>\n",
       "    <tr>\n",
       "      <th>24</th>\n",
       "      <td>118021564</td>\n",
       "      <td>POLYGON ((151.2225498050001 -33.90130016199998...</td>\n",
       "    </tr>\n",
       "    <tr>\n",
       "      <th>101</th>\n",
       "      <td>118021570</td>\n",
       "      <td>POLYGON ((151.249332994 -33.91452159399995, 15...</td>\n",
       "    </tr>\n",
       "    <tr>\n",
       "      <th>109</th>\n",
       "      <td>118021569</td>\n",
       "      <td>POLYGON ((151.249332994 -33.91452159399995, 15...</td>\n",
       "    </tr>\n",
       "    <tr>\n",
       "      <th>129</th>\n",
       "      <td>118021568</td>\n",
       "      <td>POLYGON ((151.2395608490001 -33.94167069499997...</td>\n",
       "    </tr>\n",
       "    <tr>\n",
       "      <th>303</th>\n",
       "      <td>118021350</td>\n",
       "      <td>POLYGON ((151.2219293050001 -33.95919365399993...</td>\n",
       "    </tr>\n",
       "    <tr>\n",
       "      <th>536</th>\n",
       "      <td>118021565</td>\n",
       "      <td>POLYGON ((151.2359737380001 -33.91904537999994...</td>\n",
       "    </tr>\n",
       "  </tbody>\n",
       "</table>\n",
       "</div>"
      ],
      "text/plain": [
       "    sa2_maincode_2016                                           geometry\n",
       "8           118021348  (POLYGON ((151.249332994 -33.91452159399995, 1...\n",
       "24          118021564  POLYGON ((151.2225498050001 -33.90130016199998...\n",
       "101         118021570  POLYGON ((151.249332994 -33.91452159399995, 15...\n",
       "109         118021569  POLYGON ((151.249332994 -33.91452159399995, 15...\n",
       "129         118021568  POLYGON ((151.2395608490001 -33.94167069499997...\n",
       "303         118021350  POLYGON ((151.2219293050001 -33.95919365399993...\n",
       "536         118021565  POLYGON ((151.2359737380001 -33.91904537999994..."
      ]
     },
     "execution_count": 47,
     "metadata": {},
     "output_type": "execute_result"
    }
   ],
   "source": [
    "###Optional: Keep only rows from geopackage that match area codes###\n",
    "\n",
    "newdf = df[df['sa2_maincode_2016'].isin(code_list)]\n",
    "#Makes new dataframe with codes from sa2_maincode_2016 that match code_list made in step above\n",
    "\n",
    "newdf2 = newdf[['sa2_maincode_2016', 'geometry']]\n",
    "#Formatting: when you make new dataframe old rows appear especially if you didn't define old dataframe without them\n",
    "#Unneccesary with a refactor\n",
    "\n",
    "newdf2 "
   ]
  },
  {
   "cell_type": "code",
   "execution_count": 49,
   "metadata": {},
   "outputs": [
    {
     "data": {
      "text/html": [
       "<div>\n",
       "<style scoped>\n",
       "    .dataframe tbody tr th:only-of-type {\n",
       "        vertical-align: middle;\n",
       "    }\n",
       "\n",
       "    .dataframe tbody tr th {\n",
       "        vertical-align: top;\n",
       "    }\n",
       "\n",
       "    .dataframe thead th {\n",
       "        text-align: right;\n",
       "    }\n",
       "</style>\n",
       "<table border=\"1\" class=\"dataframe\">\n",
       "  <thead>\n",
       "    <tr style=\"text-align: right;\">\n",
       "      <th></th>\n",
       "      <th>sa2_maincode_2016</th>\n",
       "      <th>geometry</th>\n",
       "    </tr>\n",
       "  </thead>\n",
       "  <tbody>\n",
       "    <tr>\n",
       "      <th>8</th>\n",
       "      <td>118021348</td>\n",
       "      <td>(POLYGON ((151.249332994 -33.91452159399995, 1...</td>\n",
       "    </tr>\n",
       "    <tr>\n",
       "      <th>303</th>\n",
       "      <td>118021350</td>\n",
       "      <td>POLYGON ((151.2219293050001 -33.95919365399993...</td>\n",
       "    </tr>\n",
       "    <tr>\n",
       "      <th>24</th>\n",
       "      <td>118021564</td>\n",
       "      <td>POLYGON ((151.2225498050001 -33.90130016199998...</td>\n",
       "    </tr>\n",
       "    <tr>\n",
       "      <th>536</th>\n",
       "      <td>118021565</td>\n",
       "      <td>POLYGON ((151.2359737380001 -33.91904537999994...</td>\n",
       "    </tr>\n",
       "    <tr>\n",
       "      <th>129</th>\n",
       "      <td>118021568</td>\n",
       "      <td>POLYGON ((151.2395608490001 -33.94167069499997...</td>\n",
       "    </tr>\n",
       "    <tr>\n",
       "      <th>109</th>\n",
       "      <td>118021569</td>\n",
       "      <td>POLYGON ((151.249332994 -33.91452159399995, 15...</td>\n",
       "    </tr>\n",
       "    <tr>\n",
       "      <th>101</th>\n",
       "      <td>118021570</td>\n",
       "      <td>POLYGON ((151.249332994 -33.91452159399995, 15...</td>\n",
       "    </tr>\n",
       "  </tbody>\n",
       "</table>\n",
       "</div>"
      ],
      "text/plain": [
       "    sa2_maincode_2016                                           geometry\n",
       "8           118021348  (POLYGON ((151.249332994 -33.91452159399995, 1...\n",
       "303         118021350  POLYGON ((151.2219293050001 -33.95919365399993...\n",
       "24          118021564  POLYGON ((151.2225498050001 -33.90130016199998...\n",
       "536         118021565  POLYGON ((151.2359737380001 -33.91904537999994...\n",
       "129         118021568  POLYGON ((151.2395608490001 -33.94167069499997...\n",
       "109         118021569  POLYGON ((151.249332994 -33.91452159399995, 15...\n",
       "101         118021570  POLYGON ((151.249332994 -33.91452159399995, 15..."
      ]
     },
     "execution_count": 49,
     "metadata": {},
     "output_type": "execute_result"
    }
   ],
   "source": [
    "###Sort area codes by ascending order###\n",
    "\n",
    "newdf2.sort_values(by=['sa2_maincode_2016'], inplace=True)\n",
    "#Sorts streamlines geopackage dataframe by the values in sa2_maincode_2016. Descending order by default\n",
    "\n",
    "main_table.sort_values(by=['Code'], inplace=True)\n",
    "#Does the same for census dataframe by Code column\n",
    "\n",
    "#This ensures that they match up when we merge them!\n",
    "\n",
    "#For example,\n",
    "newdf2"
   ]
  },
  {
   "cell_type": "code",
   "execution_count": 50,
   "metadata": {},
   "outputs": [
    {
     "data": {
      "text/html": [
       "<div>\n",
       "<style scoped>\n",
       "    .dataframe tbody tr th:only-of-type {\n",
       "        vertical-align: middle;\n",
       "    }\n",
       "\n",
       "    .dataframe tbody tr th {\n",
       "        vertical-align: top;\n",
       "    }\n",
       "\n",
       "    .dataframe thead th {\n",
       "        text-align: right;\n",
       "    }\n",
       "</style>\n",
       "<table border=\"1\" class=\"dataframe\">\n",
       "  <thead>\n",
       "    <tr style=\"text-align: right;\">\n",
       "      <th></th>\n",
       "      <th>sa2_maincode_2016</th>\n",
       "      <th>geometry</th>\n",
       "      <th>Time</th>\n",
       "      <th>Value</th>\n",
       "      <th>Description</th>\n",
       "      <th>Code</th>\n",
       "      <th>Area</th>\n",
       "    </tr>\n",
       "  </thead>\n",
       "  <tbody>\n",
       "    <tr>\n",
       "      <th>0</th>\n",
       "      <td>118021348</td>\n",
       "      <td>(POLYGON ((151.249332994 -33.91452159399995, 1...</td>\n",
       "      <td>2016</td>\n",
       "      <td>48.0</td>\n",
       "      <td>Homeless rate per 10,000 persons</td>\n",
       "      <td>118021348</td>\n",
       "      <td>Coogee - Clovelly</td>\n",
       "    </tr>\n",
       "    <tr>\n",
       "      <th>1</th>\n",
       "      <td>118021350</td>\n",
       "      <td>POLYGON ((151.2219293050001 -33.95919365399993...</td>\n",
       "      <td>2016</td>\n",
       "      <td>29.7</td>\n",
       "      <td>Homeless rate per 10,000 persons</td>\n",
       "      <td>118021350</td>\n",
       "      <td>Malabar - La Perouse - Chifley</td>\n",
       "    </tr>\n",
       "    <tr>\n",
       "      <th>2</th>\n",
       "      <td>118021564</td>\n",
       "      <td>POLYGON ((151.2225498050001 -33.90130016199998...</td>\n",
       "      <td>2016</td>\n",
       "      <td>61.1</td>\n",
       "      <td>Homeless rate per 10,000 persons</td>\n",
       "      <td>118021564</td>\n",
       "      <td>Kensington (NSW)</td>\n",
       "    </tr>\n",
       "    <tr>\n",
       "      <th>3</th>\n",
       "      <td>118021565</td>\n",
       "      <td>POLYGON ((151.2359737380001 -33.91904537999994...</td>\n",
       "      <td>2016</td>\n",
       "      <td>106.1</td>\n",
       "      <td>Homeless rate per 10,000 persons</td>\n",
       "      <td>118021565</td>\n",
       "      <td>Kingsford</td>\n",
       "    </tr>\n",
       "    <tr>\n",
       "      <th>4</th>\n",
       "      <td>118021568</td>\n",
       "      <td>POLYGON ((151.2395608490001 -33.94167069499997...</td>\n",
       "      <td>2016</td>\n",
       "      <td>17.8</td>\n",
       "      <td>Homeless rate per 10,000 persons</td>\n",
       "      <td>118021568</td>\n",
       "      <td>Maroubra - West</td>\n",
       "    </tr>\n",
       "    <tr>\n",
       "      <th>5</th>\n",
       "      <td>118021569</td>\n",
       "      <td>POLYGON ((151.249332994 -33.91452159399995, 15...</td>\n",
       "      <td>2016</td>\n",
       "      <td>62.9</td>\n",
       "      <td>Homeless rate per 10,000 persons</td>\n",
       "      <td>118021569</td>\n",
       "      <td>Randwick - North</td>\n",
       "    </tr>\n",
       "    <tr>\n",
       "      <th>6</th>\n",
       "      <td>118021570</td>\n",
       "      <td>POLYGON ((151.249332994 -33.91452159399995, 15...</td>\n",
       "      <td>2016</td>\n",
       "      <td>102.7</td>\n",
       "      <td>Homeless rate per 10,000 persons</td>\n",
       "      <td>118021570</td>\n",
       "      <td>Randwick - South</td>\n",
       "    </tr>\n",
       "  </tbody>\n",
       "</table>\n",
       "</div>"
      ],
      "text/plain": [
       "  sa2_maincode_2016                                           geometry  Time  Value                       Description       Code                             Area\n",
       "0         118021348  (POLYGON ((151.249332994 -33.91452159399995, 1...  2016   48.0  Homeless rate per 10,000 persons  118021348               Coogee - Clovelly \n",
       "1         118021350  POLYGON ((151.2219293050001 -33.95919365399993...  2016   29.7  Homeless rate per 10,000 persons  118021350  Malabar - La Perouse - Chifley \n",
       "2         118021564  POLYGON ((151.2225498050001 -33.90130016199998...  2016   61.1  Homeless rate per 10,000 persons  118021564                Kensington (NSW) \n",
       "3         118021565  POLYGON ((151.2359737380001 -33.91904537999994...  2016  106.1  Homeless rate per 10,000 persons  118021565                       Kingsford \n",
       "4         118021568  POLYGON ((151.2395608490001 -33.94167069499997...  2016   17.8  Homeless rate per 10,000 persons  118021568                 Maroubra - West \n",
       "5         118021569  POLYGON ((151.249332994 -33.91452159399995, 15...  2016   62.9  Homeless rate per 10,000 persons  118021569                Randwick - North \n",
       "6         118021570  POLYGON ((151.249332994 -33.91452159399995, 15...  2016  102.7  Homeless rate per 10,000 persons  118021570                Randwick - South "
      ]
     },
     "execution_count": 50,
     "metadata": {},
     "output_type": "execute_result"
    }
   ],
   "source": [
    "###Merge!###\n",
    "\n",
    "newdf2 = newdf2.reset_index(drop=True)\n",
    "main_table = main_table.reset_index(drop=True)\n",
    "#Reset index values, not completely necessary but it doesn't like it when they are different\n",
    "\n",
    "final_table = pd.concat([newdf2, main_table], axis=1)\n",
    "#Join line! Note: axis=1 puts them next not each other rather than below like axis=0 which is default\n",
    "\n",
    "final_table\n",
    "#Check area codes they match up, they should!"
   ]
  },
  {
   "cell_type": "markdown",
   "metadata": {},
   "source": [
    "\n",
    "STEP 4: Plot Plot Plot Away\n"
   ]
  },
  {
   "cell_type": "code",
   "execution_count": 66,
   "metadata": {},
   "outputs": [
    {
     "data": {
      "image/png": "[encoded data removed]",
      "text/plain": [
       "<Figure size 432x288 with 1 Axes>"
      ]
     },
     "metadata": {
      "needs_background": "light"
     },
     "output_type": "display_data"
    }
   ],
   "source": [
    "###Histogram Plot####\n",
    "\n",
    "final_table.Value.hist(bins=15)\n",
    "\n",
    "plt.xlabel(\"Rate per 10,000 persons\")\n",
    "plt.ylabel(\"Frequency\")\n",
    "plt.title(\"Distribution of Homeless rate around UNSW\");\n"
   ]
  },
  {
   "cell_type": "code",
   "execution_count": 68,
   "metadata": {},
   "outputs": [],
   "source": [
    "###Centorid function for labels###\n",
    "\n",
    "def add_centroid(row):\n",
    "    return row.geometry.centroid\n",
    "\n",
    "final_table[\"centroid\"] = final_table.apply(add_centroid, axis=1)"
   ]
  },
  {
   "cell_type": "code",
   "execution_count": 69,
   "metadata": {},
   "outputs": [],
   "source": [
    "###Increases plot size###\n",
    "\n",
    "import matplotlib.pyplot as plt\n",
    "\n",
    "plt.rcParams[\"figure.figsize\"] = (20,10)"
   ]
  },
  {
   "cell_type": "code",
   "execution_count": 75,
   "metadata": {},
   "outputs": [
    {
     "data": {
      "text/plain": [
       "Text(0.5, 1.0, 'Map of the Rate of Homeless around UNSW')"
      ]
     },
     "execution_count": 75,
     "metadata": {},
     "output_type": "execute_result"
    },
    {
     "data": {
      "image/png": "[encoded data removed]",
      "text/plain": [
       "<Figure size 1440x720 with 1 Axes>"
      ]
     },
     "metadata": {
      "needs_background": "light"
     },
     "output_type": "display_data"
    }
   ],
   "source": [
    "final_table.plot(column='Value', cmap='Oranges');\n",
    "\n",
    "for idx, row in final_table.iterrows():\n",
    "    plt.annotate(s=row.Area, \n",
    "                 xy=tuple(row.centroid.coords)[0],\n",
    "                 horizontalalignment='center')\n",
    "    \n",
    "plt.title(\"Map of the Rate of Homeless around UNSW\")"
   ]
  },
  {
   "cell_type": "markdown",
   "metadata": {},
   "source": [
    "\n",
    "\n"
   ]
  },
  {
   "cell_type": "markdown",
   "metadata": {},
   "source": [
    "\n",
    "\n",
    "MORE RESULTS:\n",
    "with other fun data!!!!\n",
    "\n"
   ]
  },
  {
   "cell_type": "markdown",
   "metadata": {},
   "source": []
  }
 ],
 "metadata": {
  "kernelspec": {
   "display_name": "Python 3",
   "language": "python",
   "name": "python3"
  },
  "language_info": {
   "codemirror_mode": {
    "name": "ipython",
    "version": 3
   },
   "file_extension": ".py",
   "mimetype": "text/x-python",
   "name": "python",
   "nbconvert_exporter": "python",
   "pygments_lexer": "ipython3",
   "version": "3.7.3"
  }
 },
 "nbformat": 4,
 "nbformat_minor": 2
}
